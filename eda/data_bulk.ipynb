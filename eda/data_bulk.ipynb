{
 "cells": [
  {
   "cell_type": "code",
   "execution_count": 1,
   "metadata": {},
   "outputs": [],
   "source": [
    "import pandas as pd\n",
    "import numpy as np\n",
    "import matplotlib.pyplot as plt\n",
    "import seaborn as sns"
   ]
  },
  {
   "cell_type": "markdown",
   "metadata": {},
   "source": [
    "# **Config**"
   ]
  },
  {
   "cell_type": "code",
   "execution_count": 2,
   "metadata": {},
   "outputs": [],
   "source": [
    "sns.set_theme(style='darkgrid')\n",
    "title_data = 'Bulk'\n",
    "paleta = sns.color_palette(\"tab10\").as_hex()"
   ]
  },
  {
   "cell_type": "markdown",
   "metadata": {},
   "source": [
    "# **Functions**"
   ]
  },
  {
   "cell_type": "code",
   "execution_count": 3,
   "metadata": {},
   "outputs": [],
   "source": [
    "def porcentaje_nulos_x_caracteristica(data:pd.DataFrame, **kwargs)->None:\n",
    "  \"\"\"Calcular el porcentaje de valores nulos por caracteristicas\"\"\"\n",
    "  data.isnull().melt().pipe(\n",
    "        lambda df: (\n",
    "            sns.displot(\n",
    "                data=df,\n",
    "                y='variable',\n",
    "                hue='value',\n",
    "                multiple='fill',\n",
    "                aspect=2\n",
    "            ).set(**kwargs)\n",
    "        )\n",
    "    )\n",
    "  \n",
    "def null_features_per_record(data, figsize=(9,8), **kwargs):\n",
    "  \"\"\"Identifica el número de caracteristicas nulas por registro\"\"\"\n",
    "  plt.figure(figsize=figsize)\n",
    "  (\n",
    "      data\n",
    "      .isnull()\n",
    "      .transpose()\n",
    "      .pipe(\n",
    "          lambda df: (\n",
    "              sns.heatmap(\n",
    "                  data = df\n",
    "                  \n",
    "              ).set(**kwargs)\n",
    "          )\n",
    "      )\n",
    "  )"
   ]
  },
  {
   "cell_type": "markdown",
   "metadata": {},
   "source": [
    "**Data**\n",
    "---"
   ]
  },
  {
   "cell_type": "code",
   "execution_count": 4,
   "metadata": {},
   "outputs": [],
   "source": [
    "url_data_bulk = 'https://drive.google.com/file/d/1WqFElWzLW9iGsnHfuDxZK9Wm9Y5ctK0I/view?usp=sharing'\n",
    "url_data_bulk = 'https://drive.google.com/uc?id=' + url_data_bulk.split('/')[-2]\n",
    "data_bulk = pd.read_csv(url_data_bulk)"
   ]
  },
  {
   "cell_type": "code",
   "execution_count": 5,
   "metadata": {},
   "outputs": [
    {
     "name": "stdout",
     "output_type": "stream",
     "text": [
      "<class 'pandas.core.frame.DataFrame'>\n",
      "RangeIndex: 3129 entries, 0 to 3128\n",
      "Data columns (total 16 columns):\n",
      " #   Column   Non-Null Count  Dtype  \n",
      "---  ------   --------------  -----  \n",
      " 0   key      3129 non-null   int64  \n",
      " 1   Bulk 1   252 non-null    float64\n",
      " 2   Bulk 2   22 non-null     float64\n",
      " 3   Bulk 3   1298 non-null   float64\n",
      " 4   Bulk 4   1014 non-null   float64\n",
      " 5   Bulk 5   77 non-null     float64\n",
      " 6   Bulk 6   576 non-null    float64\n",
      " 7   Bulk 7   25 non-null     float64\n",
      " 8   Bulk 8   1 non-null      float64\n",
      " 9   Bulk 9   19 non-null     float64\n",
      " 10  Bulk 10  176 non-null    float64\n",
      " 11  Bulk 11  177 non-null    float64\n",
      " 12  Bulk 12  2450 non-null   float64\n",
      " 13  Bulk 13  18 non-null     float64\n",
      " 14  Bulk 14  2806 non-null   float64\n",
      " 15  Bulk 15  2248 non-null   float64\n",
      "dtypes: float64(15), int64(1)\n",
      "memory usage: 391.2 KB\n"
     ]
    }
   ],
   "source": [
    "data_bulk.info()"
   ]
  },
  {
   "cell_type": "code",
   "execution_count": 6,
   "metadata": {},
   "outputs": [
    {
     "data": {
      "text/plain": [
       "(3129, 16)"
      ]
     },
     "execution_count": 6,
     "metadata": {},
     "output_type": "execute_result"
    }
   ],
   "source": [
    "data_bulk.shape"
   ]
  },
  {
   "cell_type": "markdown",
   "metadata": {},
   "source": [
    "- -There are 3129 batches of bulk-"
   ]
  },
  {
   "cell_type": "code",
   "execution_count": null,
   "metadata": {},
   "outputs": [],
   "source": [
    "data_bulk.head()"
   ]
  },
  {
   "cell_type": "code",
   "execution_count": null,
   "metadata": {},
   "outputs": [],
   "source": [
    "porcentaje_nulos_x_caracteristica(data_bulk, title='Null values percentage')"
   ]
  },
  {
   "cell_type": "markdown",
   "metadata": {},
   "source": [
    "- Hay un porcentaje grande de valores nulos en la mayoría de columnas, menos a los lotes. \n",
    "- -There are many null values in all functions, except in the key column 'batches'-\n",
    "\n",
    "- Falta la mayoría de los datos en las columnas Bulk 1, Bulk 2, Bulk 5, Bulk 7, Bulk 8, Bulk 9, Bulk 10, Bulk 11, Bulk 13, con un porcentaje superior al 90%.\n",
    "- -Most of data in columns Bulk 1, Bulk 2, Bulk 5, Bulk 7, Bulk 8, Bulk 9, Bulk 10, Bulk 11, Bulk 13 is missing, with a percentage above 90%.-\n",
    "\n",
    "- Faltan datos en las columnas Bulk 3, Bulk 4, Bulk 6 con un porcentaje entre 50% - 80%\n",
    "- -There are missing data in columns Bulk 3, Bulk 4, Bulk 6 with a percentage between 50% - 80%-\n",
    "\n",
    "- Faltan datos en las columnas Bulk 12 y Bulk 15 con un porcentaje entre 21% y 28%.\n",
    "- -There are missing data in columns Bulk 12 and Bulk 15 with a percentage between 21% - 28%-\n",
    "\n",
    "- Bulk 14 tiene la menor cantidad de datos faltantes con un porcentaje del 10%.\n",
    "- -Bulk 14 has the lowest amount of missing data with a percentage of 10%.-\n"
   ]
  },
  {
   "cell_type": "code",
   "execution_count": null,
   "metadata": {},
   "outputs": [],
   "source": [
    "null_features_per_record(data_bulk, title='Null values for rows')"
   ]
  },
  {
   "cell_type": "markdown",
   "metadata": {},
   "source": [
    "- Los lotes pueden tener más de un tipo de granel, no necesariamente los 15.\n",
    "- -For batches, there can be more than one type of bulk-"
   ]
  },
  {
   "cell_type": "code",
   "execution_count": null,
   "metadata": {},
   "outputs": [],
   "source": [
    "data_bulk['key'].duplicated().sum()"
   ]
  },
  {
   "cell_type": "markdown",
   "metadata": {},
   "source": [
    "- -There are no duplicate data-"
   ]
  }
 ],
 "metadata": {
  "kernelspec": {
   "display_name": "venv",
   "language": "python",
   "name": "python3"
  },
  "language_info": {
   "codemirror_mode": {
    "name": "ipython",
    "version": 3
   },
   "file_extension": ".py",
   "mimetype": "text/x-python",
   "name": "python",
   "nbconvert_exporter": "python",
   "pygments_lexer": "ipython3",
   "version": "3.10.12"
  }
 },
 "nbformat": 4,
 "nbformat_minor": 2
}
